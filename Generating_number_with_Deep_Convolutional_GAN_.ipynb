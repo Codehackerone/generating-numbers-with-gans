{
  "nbformat": 4,
  "nbformat_minor": 0,
  "metadata": {
    "kernelspec": {
      "display_name": "Python 3",
      "language": "python",
      "name": "python3"
    },
    "language_info": {
      "codemirror_mode": {
        "name": "ipython",
        "version": 3
      },
      "file_extension": ".py",
      "mimetype": "text/x-python",
      "name": "python",
      "nbconvert_exporter": "python",
      "pygments_lexer": "ipython3",
      "version": "3.7.5"
    },
    "colab": {
      "name": "Generating number with Deep Convolutional GAN .ipynb",
      "provenance": []
    }
  },
  "cells": [
    {
      "cell_type": "code",
      "metadata": {
        "id": "g9iWaQgmb93k"
      },
      "source": [
        "import pandas as pd\n",
        "import numpy as np\n",
        "import matplotlib.pyplot as plt"
      ],
      "execution_count": 1,
      "outputs": []
    },
    {
      "cell_type": "code",
      "metadata": {
        "id": "mAJDQkCkb93m"
      },
      "source": [
        "from tensorflow.keras.datasets import mnist"
      ],
      "execution_count": 2,
      "outputs": []
    },
    {
      "cell_type": "code",
      "metadata": {
        "colab": {
          "base_uri": "https://localhost:8080/"
        },
        "id": "XUBTwPvyb93m",
        "outputId": "0398418d-37e1-453a-c5a7-e962a1aca3e2"
      },
      "source": [
        "(X_train, y_train), (X_test, y_test) = mnist.load_data()"
      ],
      "execution_count": 3,
      "outputs": [
        {
          "output_type": "stream",
          "name": "stdout",
          "text": [
            "Downloading data from https://storage.googleapis.com/tensorflow/tf-keras-datasets/mnist.npz\n",
            "11493376/11490434 [==============================] - 0s 0us/step\n",
            "11501568/11490434 [==============================] - 0s 0us/step\n"
          ]
        }
      ]
    },
    {
      "cell_type": "code",
      "metadata": {
        "colab": {
          "base_uri": "https://localhost:8080/",
          "height": 282
        },
        "id": "PuDi4_scb93m",
        "outputId": "c3fe14b9-4dfd-4128-f050-7d3659d9e0c3"
      },
      "source": [
        "plt.imshow(X_train[0])"
      ],
      "execution_count": 4,
      "outputs": [
        {
          "output_type": "execute_result",
          "data": {
            "text/plain": [
              "<matplotlib.image.AxesImage at 0x7f38170c2510>"
            ]
          },
          "metadata": {},
          "execution_count": 4
        },
        {
          "output_type": "display_data",
          "data": {
            "image/png": "[encoded data removed]",
            "text/plain": [
              "<Figure size 432x288 with 1 Axes>"
            ]
          },
          "metadata": {
            "needs_background": "light"
          }
        }
      ]
    },
    {
      "cell_type": "code",
      "metadata": {
        "colab": {
          "base_uri": "https://localhost:8080/"
        },
        "id": "1uDq0Mtgb93o",
        "outputId": "10ca8a02-2d8d-4683-951f-e9186a6e462d"
      },
      "source": [
        "y_train"
      ],
      "execution_count": 5,
      "outputs": [
        {
          "output_type": "execute_result",
          "data": {
            "text/plain": [
              "array([5, 0, 4, ..., 5, 6, 8], dtype=uint8)"
            ]
          },
          "metadata": {},
          "execution_count": 5
        }
      ]
    },
    {
      "cell_type": "code",
      "metadata": {
        "id": "--vvuLHIb93o"
      },
      "source": [
        "X_train = X_train/255"
      ],
      "execution_count": 6,
      "outputs": []
    },
    {
      "cell_type": "code",
      "metadata": {
        "id": "sxW9ZsItb93p"
      },
      "source": [
        "X_train = X_train.reshape(-1, 28, 28, 1) * 2. - 1."
      ],
      "execution_count": 7,
      "outputs": []
    },
    {
      "cell_type": "code",
      "metadata": {
        "colab": {
          "base_uri": "https://localhost:8080/"
        },
        "id": "L2JPgBT4b93p",
        "outputId": "9cb41fb4-5448-4f68-dc14-2189d6cd2857"
      },
      "source": [
        "X_train.min()"
      ],
      "execution_count": 8,
      "outputs": [
        {
          "output_type": "execute_result",
          "data": {
            "text/plain": [
              "-1.0"
            ]
          },
          "metadata": {},
          "execution_count": 8
        }
      ]
    },
    {
      "cell_type": "code",
      "metadata": {
        "colab": {
          "base_uri": "https://localhost:8080/"
        },
        "id": "kwiw7OBAb93p",
        "outputId": "f9d3f074-a8a7-4d2d-eeb2-10c3b9b7cd4b"
      },
      "source": [
        "X_train.max()"
      ],
      "execution_count": 9,
      "outputs": [
        {
          "output_type": "execute_result",
          "data": {
            "text/plain": [
              "1.0"
            ]
          },
          "metadata": {},
          "execution_count": 9
        }
      ]
    },
    {
      "cell_type": "code",
      "metadata": {
        "id": "w0h1iu_mb93q"
      },
      "source": [
        "only_sevens = X_train[y_train==7]"
      ],
      "execution_count": 10,
      "outputs": []
    },
    {
      "cell_type": "code",
      "metadata": {
        "colab": {
          "base_uri": "https://localhost:8080/"
        },
        "id": "s6GM9msfb93q",
        "outputId": "0f5a9917-8e2c-4c93-9980-1370fcdcb014"
      },
      "source": [
        "only_sevens.shape"
      ],
      "execution_count": 11,
      "outputs": [
        {
          "output_type": "execute_result",
          "data": {
            "text/plain": [
              "(6265, 28, 28, 1)"
            ]
          },
          "metadata": {},
          "execution_count": 11
        }
      ]
    },
    {
      "cell_type": "code",
      "metadata": {
        "id": "nw7JOCIKb93r"
      },
      "source": [
        "import tensorflow as tf\n",
        "from tensorflow.keras.layers import Dense,Reshape,Dropout,LeakyReLU,Flatten,BatchNormalization,Conv2D,Conv2DTranspose\n",
        "from tensorflow.keras.models import Sequential"
      ],
      "execution_count": 12,
      "outputs": []
    },
    {
      "cell_type": "code",
      "metadata": {
        "id": "_KJ17GBob93r"
      },
      "source": [
        "np.random.seed(101)\n",
        "tf.random.set_seed(101)\n",
        "\n",
        "codings_size = 100"
      ],
      "execution_count": 13,
      "outputs": []
    },
    {
      "cell_type": "code",
      "metadata": {
        "id": "7_OE7Rg-b93r"
      },
      "source": [
        "generator = Sequential()\n",
        "generator.add(Dense(7 * 7 * 128, input_shape=[codings_size]))\n",
        "generator.add(Reshape([7, 7, 128]))\n",
        "generator.add(BatchNormalization())\n",
        "generator.add(Conv2DTranspose(64, kernel_size=5, strides=2, padding=\"same\",\n",
        "                                 activation=\"relu\"))\n",
        "generator.add(BatchNormalization())\n",
        "generator.add(Conv2DTranspose(1, kernel_size=5, strides=2, padding=\"same\",\n",
        "                                 activation=\"tanh\"))\n"
      ],
      "execution_count": 14,
      "outputs": []
    },
    {
      "cell_type": "code",
      "metadata": {
        "id": "w61sWj-lb93r"
      },
      "source": [
        "discriminator = Sequential()\n",
        "discriminator.add(Conv2D(64, kernel_size=5, strides=2, padding=\"same\",\n",
        "                        activation=LeakyReLU(0.3),\n",
        "                        input_shape=[28, 28, 1]))\n",
        "discriminator.add(Dropout(0.5))\n",
        "discriminator.add(Conv2D(128, kernel_size=5, strides=2, padding=\"same\",\n",
        "                        activation=LeakyReLU(0.3)))\n",
        "discriminator.add(Dropout(0.5))\n",
        "discriminator.add(Flatten())\n",
        "discriminator.add(Dense(1, activation=\"sigmoid\"))"
      ],
      "execution_count": 15,
      "outputs": []
    },
    {
      "cell_type": "code",
      "metadata": {
        "id": "eMrSRR5bb93s"
      },
      "source": [
        "GAN = Sequential([generator, discriminator])"
      ],
      "execution_count": 16,
      "outputs": []
    },
    {
      "cell_type": "code",
      "metadata": {
        "id": "1iPbFwUKb93s"
      },
      "source": [
        "discriminator.compile(loss=\"binary_crossentropy\", optimizer=\"adam\")\n",
        "discriminator.trainable = False"
      ],
      "execution_count": 17,
      "outputs": []
    },
    {
      "cell_type": "code",
      "metadata": {
        "id": "TQGNEV-eb93s"
      },
      "source": [
        "GAN.compile(loss=\"binary_crossentropy\", optimizer=\"adam\")"
      ],
      "execution_count": 18,
      "outputs": []
    },
    {
      "cell_type": "code",
      "metadata": {
        "colab": {
          "base_uri": "https://localhost:8080/"
        },
        "id": "3_XYPqY-b93s",
        "outputId": "6fe4a702-40f4-4382-d083-a48d1518ce3e"
      },
      "source": [
        "GAN.layers"
      ],
      "execution_count": 19,
      "outputs": [
        {
          "output_type": "execute_result",
          "data": {
            "text/plain": [
              "[<keras.engine.sequential.Sequential at 0x7f3817039f50>,\n",
              " <keras.engine.sequential.Sequential at 0x7f3813169d50>]"
            ]
          },
          "metadata": {},
          "execution_count": 19
        }
      ]
    },
    {
      "cell_type": "code",
      "metadata": {
        "colab": {
          "base_uri": "https://localhost:8080/"
        },
        "id": "CMeWZwIvb93s",
        "outputId": "258c12f6-fba2-43b1-ae2d-257112e395a1"
      },
      "source": [
        "GAN.summary()"
      ],
      "execution_count": 20,
      "outputs": [
        {
          "output_type": "stream",
          "name": "stdout",
          "text": [
            "Model: \"sequential_2\"\n",
            "_________________________________________________________________\n",
            "Layer (type)                 Output Shape              Param #   \n",
            "=================================================================\n",
            "sequential (Sequential)      (None, 28, 28, 1)         840705    \n",
            "_________________________________________________________________\n",
            "sequential_1 (Sequential)    (None, 1)                 212865    \n",
            "=================================================================\n",
            "Total params: 1,053,570\n",
            "Trainable params: 840,321\n",
            "Non-trainable params: 213,249\n",
            "_________________________________________________________________\n"
          ]
        }
      ]
    },
    {
      "cell_type": "code",
      "metadata": {
        "colab": {
          "base_uri": "https://localhost:8080/"
        },
        "id": "WgPZiIObb93s",
        "outputId": "719fba7a-e6e4-484c-d805-fe377680d0ab"
      },
      "source": [
        "GAN.layers[0].summary()"
      ],
      "execution_count": 21,
      "outputs": [
        {
          "output_type": "stream",
          "name": "stdout",
          "text": [
            "Model: \"sequential\"\n",
            "_________________________________________________________________\n",
            "Layer (type)                 Output Shape              Param #   \n",
            "=================================================================\n",
            "dense (Dense)                (None, 6272)              633472    \n",
            "_________________________________________________________________\n",
            "reshape (Reshape)            (None, 7, 7, 128)         0         \n",
            "_________________________________________________________________\n",
            "batch_normalization (BatchNo (None, 7, 7, 128)         512       \n",
            "_________________________________________________________________\n",
            "conv2d_transpose (Conv2DTran (None, 14, 14, 64)        204864    \n",
            "_________________________________________________________________\n",
            "batch_normalization_1 (Batch (None, 14, 14, 64)        256       \n",
            "_________________________________________________________________\n",
            "conv2d_transpose_1 (Conv2DTr (None, 28, 28, 1)         1601      \n",
            "=================================================================\n",
            "Total params: 840,705\n",
            "Trainable params: 840,321\n",
            "Non-trainable params: 384\n",
            "_________________________________________________________________\n"
          ]
        }
      ]
    },
    {
      "cell_type": "code",
      "metadata": {
        "colab": {
          "base_uri": "https://localhost:8080/"
        },
        "id": "1HeOh9rQb93t",
        "outputId": "8785ef65-f552-49e2-b18c-b275efaaff15"
      },
      "source": [
        "GAN.layers[1].summary()"
      ],
      "execution_count": 22,
      "outputs": [
        {
          "output_type": "stream",
          "name": "stdout",
          "text": [
            "Model: \"sequential_1\"\n",
            "_________________________________________________________________\n",
            "Layer (type)                 Output Shape              Param #   \n",
            "=================================================================\n",
            "conv2d (Conv2D)              (None, 14, 14, 64)        1664      \n",
            "_________________________________________________________________\n",
            "dropout (Dropout)            (None, 14, 14, 64)        0         \n",
            "_________________________________________________________________\n",
            "conv2d_1 (Conv2D)            (None, 7, 7, 128)         204928    \n",
            "_________________________________________________________________\n",
            "dropout_1 (Dropout)          (None, 7, 7, 128)         0         \n",
            "_________________________________________________________________\n",
            "flatten (Flatten)            (None, 6272)              0         \n",
            "_________________________________________________________________\n",
            "dense_1 (Dense)              (None, 1)                 6273      \n",
            "=================================================================\n",
            "Total params: 212,865\n",
            "Trainable params: 0\n",
            "Non-trainable params: 212,865\n",
            "_________________________________________________________________\n"
          ]
        }
      ]
    },
    {
      "cell_type": "markdown",
      "metadata": {
        "id": "btSbrv3Ub93t"
      },
      "source": [
        "### Setting up Training Batches"
      ]
    },
    {
      "cell_type": "code",
      "metadata": {
        "id": "tz0fUgERb93t"
      },
      "source": [
        "import tensorflow as tf"
      ],
      "execution_count": 23,
      "outputs": []
    },
    {
      "cell_type": "code",
      "metadata": {
        "id": "jTbftD8Mb93t"
      },
      "source": [
        "batch_size = 32"
      ],
      "execution_count": 24,
      "outputs": []
    },
    {
      "cell_type": "code",
      "metadata": {
        "id": "QCuIxYBhb93t"
      },
      "source": [
        "# my_data = X_train\n",
        "my_data = only_sevens"
      ],
      "execution_count": 25,
      "outputs": []
    },
    {
      "cell_type": "code",
      "metadata": {
        "id": "3sQXy9x4b93u"
      },
      "source": [
        "dataset = tf.data.Dataset.from_tensor_slices(my_data).shuffle(buffer_size=1000)"
      ],
      "execution_count": 26,
      "outputs": []
    },
    {
      "cell_type": "code",
      "metadata": {
        "colab": {
          "base_uri": "https://localhost:8080/"
        },
        "id": "hqmWNYy5b93u",
        "outputId": "eaf2eeb2-01a3-42de-8d69-a172bf278dba"
      },
      "source": [
        "type(dataset)"
      ],
      "execution_count": 27,
      "outputs": [
        {
          "output_type": "execute_result",
          "data": {
            "text/plain": [
              "tensorflow.python.data.ops.dataset_ops.ShuffleDataset"
            ]
          },
          "metadata": {},
          "execution_count": 27
        }
      ]
    },
    {
      "cell_type": "code",
      "metadata": {
        "id": "Ra1PQJjMb93u"
      },
      "source": [
        "dataset = dataset.batch(batch_size, drop_remainder=True).prefetch(1)"
      ],
      "execution_count": 28,
      "outputs": []
    },
    {
      "cell_type": "code",
      "metadata": {
        "id": "rrWonzyNb93u"
      },
      "source": [
        "epochs = 20"
      ],
      "execution_count": 29,
      "outputs": []
    },
    {
      "cell_type": "code",
      "metadata": {
        "colab": {
          "base_uri": "https://localhost:8080/"
        },
        "id": "4LQDdjBMb93v",
        "outputId": "07f5ae5e-b466-4f2d-f01c-c69c354e4427"
      },
      "source": [
        "generator, discriminator = GAN.layers\n",
        "\n",
        "for epoch in range(epochs):\n",
        "    print(f\"Epoch: {epoch+1}\")\n",
        "    i = 0\n",
        "\n",
        "    for X_batch in dataset:\n",
        "        i=i+1\n",
        "        if i%20 == 0:\n",
        "            print(f\"Batch number {i} of {len(my_data)//batch_size}\")\n",
        "         \n",
        "        noise = tf.random.normal(shape=[batch_size, codings_size])        \n",
        "        gen_images = generator(noise)\n",
        "        X_fake_vs_real = tf.concat([gen_images, tf.dtypes.cast(X_batch,tf.float32)], axis=0)\n",
        "        y1 = tf.constant([[0.]] * batch_size + [[1.]] * batch_size)        \n",
        "        discriminator.trainable = True        \n",
        "        discriminator.train_on_batch(X_fake_vs_real, y1)\n",
        "        noise = tf.random.normal(shape=[batch_size, codings_size])\n",
        "        y2 = tf.constant([[1.]] * batch_size)\n",
        "        discriminator.trainable = False        \n",
        "        GAN.train_on_batch(noise, y2)\n",
        "        \n",
        "print(\"TRAINING COMPLETE\")            "
      ],
      "execution_count": 30,
      "outputs": [
        {
          "output_type": "stream",
          "name": "stdout",
          "text": [
            "Currently on Epoch 1\n",
            "\tCurrently on batch number 20 of 195\n",
            "\tCurrently on batch number 40 of 195\n",
            "\tCurrently on batch number 60 of 195\n",
            "\tCurrently on batch number 80 of 195\n",
            "\tCurrently on batch number 100 of 195\n",
            "\tCurrently on batch number 120 of 195\n",
            "\tCurrently on batch number 140 of 195\n",
            "\tCurrently on batch number 160 of 195\n",
            "\tCurrently on batch number 180 of 195\n",
            "Currently on Epoch 2\n",
            "\tCurrently on batch number 20 of 195\n",
            "\tCurrently on batch number 40 of 195\n",
            "\tCurrently on batch number 60 of 195\n",
            "\tCurrently on batch number 80 of 195\n",
            "\tCurrently on batch number 100 of 195\n",
            "\tCurrently on batch number 120 of 195\n",
            "\tCurrently on batch number 140 of 195\n",
            "\tCurrently on batch number 160 of 195\n",
            "\tCurrently on batch number 180 of 195\n",
            "Currently on Epoch 3\n",
            "\tCurrently on batch number 20 of 195\n",
            "\tCurrently on batch number 40 of 195\n",
            "\tCurrently on batch number 60 of 195\n",
            "\tCurrently on batch number 80 of 195\n",
            "\tCurrently on batch number 100 of 195\n",
            "\tCurrently on batch number 120 of 195\n",
            "\tCurrently on batch number 140 of 195\n",
            "\tCurrently on batch number 160 of 195\n",
            "\tCurrently on batch number 180 of 195\n",
            "Currently on Epoch 4\n",
            "\tCurrently on batch number 20 of 195\n",
            "\tCurrently on batch number 40 of 195\n",
            "\tCurrently on batch number 60 of 195\n",
            "\tCurrently on batch number 80 of 195\n",
            "\tCurrently on batch number 100 of 195\n",
            "\tCurrently on batch number 120 of 195\n",
            "\tCurrently on batch number 140 of 195\n",
            "\tCurrently on batch number 160 of 195\n",
            "\tCurrently on batch number 180 of 195\n",
            "Currently on Epoch 5\n",
            "\tCurrently on batch number 20 of 195\n",
            "\tCurrently on batch number 40 of 195\n",
            "\tCurrently on batch number 60 of 195\n",
            "\tCurrently on batch number 80 of 195\n",
            "\tCurrently on batch number 100 of 195\n",
            "\tCurrently on batch number 120 of 195\n",
            "\tCurrently on batch number 140 of 195\n",
            "\tCurrently on batch number 160 of 195\n",
            "\tCurrently on batch number 180 of 195\n",
            "Currently on Epoch 6\n",
            "\tCurrently on batch number 20 of 195\n",
            "\tCurrently on batch number 40 of 195\n",
            "\tCurrently on batch number 60 of 195\n",
            "\tCurrently on batch number 80 of 195\n",
            "\tCurrently on batch number 100 of 195\n",
            "\tCurrently on batch number 120 of 195\n",
            "\tCurrently on batch number 140 of 195\n",
            "\tCurrently on batch number 160 of 195\n",
            "\tCurrently on batch number 180 of 195\n",
            "Currently on Epoch 7\n",
            "\tCurrently on batch number 20 of 195\n",
            "\tCurrently on batch number 40 of 195\n",
            "\tCurrently on batch number 60 of 195\n",
            "\tCurrently on batch number 80 of 195\n",
            "\tCurrently on batch number 100 of 195\n",
            "\tCurrently on batch number 120 of 195\n",
            "\tCurrently on batch number 140 of 195\n",
            "\tCurrently on batch number 160 of 195\n",
            "\tCurrently on batch number 180 of 195\n",
            "Currently on Epoch 8\n",
            "\tCurrently on batch number 20 of 195\n",
            "\tCurrently on batch number 40 of 195\n",
            "\tCurrently on batch number 60 of 195\n",
            "\tCurrently on batch number 80 of 195\n",
            "\tCurrently on batch number 100 of 195\n",
            "\tCurrently on batch number 120 of 195\n",
            "\tCurrently on batch number 140 of 195\n",
            "\tCurrently on batch number 160 of 195\n",
            "\tCurrently on batch number 180 of 195\n",
            "Currently on Epoch 9\n",
            "\tCurrently on batch number 20 of 195\n",
            "\tCurrently on batch number 40 of 195\n",
            "\tCurrently on batch number 60 of 195\n",
            "\tCurrently on batch number 80 of 195\n",
            "\tCurrently on batch number 100 of 195\n",
            "\tCurrently on batch number 120 of 195\n",
            "\tCurrently on batch number 140 of 195\n",
            "\tCurrently on batch number 160 of 195\n",
            "\tCurrently on batch number 180 of 195\n",
            "Currently on Epoch 10\n",
            "\tCurrently on batch number 20 of 195\n",
            "\tCurrently on batch number 40 of 195\n",
            "\tCurrently on batch number 60 of 195\n",
            "\tCurrently on batch number 80 of 195\n",
            "\tCurrently on batch number 100 of 195\n",
            "\tCurrently on batch number 120 of 195\n",
            "\tCurrently on batch number 140 of 195\n",
            "\tCurrently on batch number 160 of 195\n",
            "\tCurrently on batch number 180 of 195\n",
            "Currently on Epoch 11\n",
            "\tCurrently on batch number 20 of 195\n",
            "\tCurrently on batch number 40 of 195\n",
            "\tCurrently on batch number 60 of 195\n",
            "\tCurrently on batch number 80 of 195\n",
            "\tCurrently on batch number 100 of 195\n",
            "\tCurrently on batch number 120 of 195\n",
            "\tCurrently on batch number 140 of 195\n",
            "\tCurrently on batch number 160 of 195\n",
            "\tCurrently on batch number 180 of 195\n",
            "Currently on Epoch 12\n",
            "\tCurrently on batch number 20 of 195\n",
            "\tCurrently on batch number 40 of 195\n",
            "\tCurrently on batch number 60 of 195\n",
            "\tCurrently on batch number 80 of 195\n",
            "\tCurrently on batch number 100 of 195\n",
            "\tCurrently on batch number 120 of 195\n",
            "\tCurrently on batch number 140 of 195\n",
            "\tCurrently on batch number 160 of 195\n",
            "\tCurrently on batch number 180 of 195\n",
            "Currently on Epoch 13\n",
            "\tCurrently on batch number 20 of 195\n",
            "\tCurrently on batch number 40 of 195\n",
            "\tCurrently on batch number 60 of 195\n",
            "\tCurrently on batch number 80 of 195\n",
            "\tCurrently on batch number 100 of 195\n",
            "\tCurrently on batch number 120 of 195\n",
            "\tCurrently on batch number 140 of 195\n",
            "\tCurrently on batch number 160 of 195\n",
            "\tCurrently on batch number 180 of 195\n",
            "Currently on Epoch 14\n",
            "\tCurrently on batch number 20 of 195\n",
            "\tCurrently on batch number 40 of 195\n",
            "\tCurrently on batch number 60 of 195\n",
            "\tCurrently on batch number 80 of 195\n",
            "\tCurrently on batch number 100 of 195\n",
            "\tCurrently on batch number 120 of 195\n",
            "\tCurrently on batch number 140 of 195\n",
            "\tCurrently on batch number 160 of 195\n",
            "\tCurrently on batch number 180 of 195\n",
            "Currently on Epoch 15\n",
            "\tCurrently on batch number 20 of 195\n",
            "\tCurrently on batch number 40 of 195\n",
            "\tCurrently on batch number 60 of 195\n",
            "\tCurrently on batch number 80 of 195\n",
            "\tCurrently on batch number 100 of 195\n",
            "\tCurrently on batch number 120 of 195\n",
            "\tCurrently on batch number 140 of 195\n",
            "\tCurrently on batch number 160 of 195\n",
            "\tCurrently on batch number 180 of 195\n",
            "Currently on Epoch 16\n",
            "\tCurrently on batch number 20 of 195\n",
            "\tCurrently on batch number 40 of 195\n",
            "\tCurrently on batch number 60 of 195\n",
            "\tCurrently on batch number 80 of 195\n",
            "\tCurrently on batch number 100 of 195\n",
            "\tCurrently on batch number 120 of 195\n",
            "\tCurrently on batch number 140 of 195\n",
            "\tCurrently on batch number 160 of 195\n",
            "\tCurrently on batch number 180 of 195\n",
            "Currently on Epoch 17\n",
            "\tCurrently on batch number 20 of 195\n",
            "\tCurrently on batch number 40 of 195\n",
            "\tCurrently on batch number 60 of 195\n",
            "\tCurrently on batch number 80 of 195\n",
            "\tCurrently on batch number 100 of 195\n",
            "\tCurrently on batch number 120 of 195\n",
            "\tCurrently on batch number 140 of 195\n",
            "\tCurrently on batch number 160 of 195\n",
            "\tCurrently on batch number 180 of 195\n",
            "Currently on Epoch 18\n",
            "\tCurrently on batch number 20 of 195\n",
            "\tCurrently on batch number 40 of 195\n",
            "\tCurrently on batch number 60 of 195\n",
            "\tCurrently on batch number 80 of 195\n",
            "\tCurrently on batch number 100 of 195\n",
            "\tCurrently on batch number 120 of 195\n",
            "\tCurrently on batch number 140 of 195\n",
            "\tCurrently on batch number 160 of 195\n",
            "\tCurrently on batch number 180 of 195\n",
            "Currently on Epoch 19\n",
            "\tCurrently on batch number 20 of 195\n",
            "\tCurrently on batch number 40 of 195\n",
            "\tCurrently on batch number 60 of 195\n",
            "\tCurrently on batch number 80 of 195\n",
            "\tCurrently on batch number 100 of 195\n",
            "\tCurrently on batch number 120 of 195\n",
            "\tCurrently on batch number 140 of 195\n",
            "\tCurrently on batch number 160 of 195\n",
            "\tCurrently on batch number 180 of 195\n",
            "Currently on Epoch 20\n",
            "\tCurrently on batch number 20 of 195\n",
            "\tCurrently on batch number 40 of 195\n",
            "\tCurrently on batch number 60 of 195\n",
            "\tCurrently on batch number 80 of 195\n",
            "\tCurrently on batch number 100 of 195\n",
            "\tCurrently on batch number 120 of 195\n",
            "\tCurrently on batch number 140 of 195\n",
            "\tCurrently on batch number 160 of 195\n",
            "\tCurrently on batch number 180 of 195\n",
            "TRAINING COMPLETE\n"
          ]
        }
      ]
    },
    {
      "cell_type": "code",
      "metadata": {
        "id": "d-XaYSEyb93w"
      },
      "source": [
        "noise = tf.random.normal(shape=[10, codings_size])"
      ],
      "execution_count": 31,
      "outputs": []
    },
    {
      "cell_type": "code",
      "metadata": {
        "colab": {
          "base_uri": "https://localhost:8080/"
        },
        "id": "j_PKYoqjb93w",
        "outputId": "83890544-596d-4826-9351-7bdb6765ad73"
      },
      "source": [
        "noise.shape"
      ],
      "execution_count": 32,
      "outputs": [
        {
          "output_type": "execute_result",
          "data": {
            "text/plain": [
              "TensorShape([10, 100])"
            ]
          },
          "metadata": {},
          "execution_count": 32
        }
      ]
    },
    {
      "cell_type": "code",
      "metadata": {
        "colab": {
          "base_uri": "https://localhost:8080/",
          "height": 101
        },
        "id": "kl3f3w_cb93w",
        "outputId": "25a0b14e-b417-422c-82de-71f403f8a00f"
      },
      "source": [
        "plt.imshow(noise)"
      ],
      "execution_count": 33,
      "outputs": [
        {
          "output_type": "execute_result",
          "data": {
            "text/plain": [
              "<matplotlib.image.AxesImage at 0x7f3810b34990>"
            ]
          },
          "metadata": {},
          "execution_count": 33
        },
        {
          "output_type": "display_data",
          "data": {
            "image/png": "[encoded data removed]",
            "text/plain": [
              "<Figure size 432x288 with 1 Axes>"
            ]
          },
          "metadata": {
            "needs_background": "light"
          }
        }
      ]
    },
    {
      "cell_type": "code",
      "metadata": {
        "id": "Dc3RA0PGb93w"
      },
      "source": [
        "images = generator(noise)"
      ],
      "execution_count": 34,
      "outputs": []
    },
    {
      "cell_type": "code",
      "metadata": {
        "id": "YgvN77w9b93w"
      },
      "source": [
        "single_image = images[0]"
      ],
      "execution_count": 35,
      "outputs": []
    },
    {
      "cell_type": "code",
      "metadata": {
        "colab": {
          "base_uri": "https://localhost:8080/",
          "height": 1000
        },
        "id": "q__OQyZeb93x",
        "outputId": "70588a78-ad3e-4e1b-bf1b-53ecce813d3d"
      },
      "source": [
        "for image in images:\n",
        "    plt.imshow(image.numpy().reshape(28,28))\n",
        "    plt.show()"
      ],
      "execution_count": 36,
      "outputs": [
        {
          "output_type": "display_data",
          "data": {
            "image/png": "[encoded data removed]",
            "text/plain": [
              "<Figure size 432x288 with 1 Axes>"
            ]
          },
          "metadata": {
            "needs_background": "light"
          }
        },
        {
          "output_type": "display_data",
          "data": {
            "image/png": "[encoded data removed]",
            "text/plain": [
              "<Figure size 432x288 with 1 Axes>"
            ]
          },
          "metadata": {
            "needs_background": "light"
          }
        },
        {
          "output_type": "display_data",
          "data": {
            "image/png": "[encoded data removed]",
            "text/plain": [
              "<Figure size 432x288 with 1 Axes>"
            ]
          },
          "metadata": {
            "needs_background": "light"
          }
        },
        {
          "output_type": "display_data",
          "data": {
            "image/png": "[encoded data removed]",
            "text/plain": [
              "<Figure size 432x288 with 1 Axes>"
            ]
          },
          "metadata": {
            "needs_background": "light"
          }
        },
        {
          "output_type": "display_data",
          "data": {
            "image/png": "[encoded data removed]",
            "text/plain": [
              "<Figure size 432x288 with 1 Axes>"
            ]
          },
          "metadata": {
            "needs_background": "light"
          }
        },
        {
          "output_type": "display_data",
          "data": {
            "image/png": "[encoded data removed]",
            "text/plain": [
              "<Figure size 432x288 with 1 Axes>"
            ]
          },
          "metadata": {
            "needs_background": "light"
          }
        },
        {
          "output_type": "display_data",
          "data": {
            "image/png": "[encoded data removed]",
            "text/plain": [
              "<Figure size 432x288 with 1 Axes>"
            ]
          },
          "metadata": {
            "needs_background": "light"
          }
        },
        {
          "output_type": "display_data",
          "data": {
            "image/png": "[encoded data removed]",
            "text/plain": [
              "<Figure size 432x288 with 1 Axes>"
            ]
          },
          "metadata": {
            "needs_background": "light"
          }
        },
        {
          "output_type": "display_data",
          "data": {
            "image/png": "[encoded data removed]",
            "text/plain": [
              "<Figure size 432x288 with 1 Axes>"
            ]
          },
          "metadata": {
            "needs_background": "light"
          }
        },
        {
          "output_type": "display_data",
          "data": {
            "image/png": "[encoded data removed]",
            "text/plain": [
              "<Figure size 432x288 with 1 Axes>"
            ]
          },
          "metadata": {
            "needs_background": "light"
          }
        }
      ]
    }
  ]
}